{
 "cells": [
  {
   "cell_type": "code",
   "execution_count": 23,
   "metadata": {},
   "outputs": [
    {
     "name": "stdout",
     "output_type": "stream",
     "text": [
      "['Date', 'Profit/Losses']\n",
      "-2315.12\n"
     ]
    }
   ],
   "source": [
    "# Import pathlib path and csv\n",
    "\n",
    "from pathlib import Path\n",
    "import csv\n",
    "\n",
    "# Set working file path and output path\n",
    "csvpath = Path('../Resources/budget_data.csv')\n",
    "outputpath = Path('Analysis.txt')\n",
    "\n",
    "# Initialize parameters for financial analysis\n",
    "\n",
    "# Final output use\n",
    "\n",
    "total_months = 0\n",
    "total_net = 0\n",
    "average_change = 0\n",
    "greatest_increase = ['', 0]\n",
    "greatest_decrease = ['', 9999999999999999]\n",
    "\n",
    "net_change_list = []\n",
    "month_changing = []\n",
    "\n",
    "# Open CSV\n",
    "\n",
    "with open(csvpath, \"r\") as csvfile:\n",
    "    csvreader = csv.reader(csvfile, delimiter=\",\")\n",
    "\n",
    "    # Skip header\n",
    "\n",
    "    csv_header = next(csvreader)\n",
    "    print(csv_header)\n",
    "    \n",
    "    # Skip first row, accumulate total months, accumulate total net profit/loss excluding first row, and apply a new prior net excluding first row.\n",
    "    \n",
    "    first_row = next(csvreader) \n",
    "    total_months += 1\n",
    "    total_net += int(first_row[1])\n",
    "    prior_net = int(first_row[1]) \n",
    "    \n",
    "    # Read/print each row of data after the header, increment total months and total net profit/loss\n",
    "    for row in csvreader:\n",
    "        total_months += 1\n",
    "        total_net += int(row[1])\n",
    "    \n",
    "        # Calculate net change of profit/loss between months starting from the second month\n",
    "        \n",
    "        net_change = int(row[1]) - prior_net\n",
    "        prior_net = int(row[1]) \n",
    "        net_change_list += [net_change]\n",
    "        month_changing += [row[0]]\n",
    "        \n",
    "         # Finding the greatest increase in net change\n",
    "        if net_change > greatest_increase[1]:\n",
    "            greatest_increase[0] = row[0] # Equivalent date value from increase list to the csv\n",
    "            greatest_increase[1] = net_change # The smaller number will be the new net_change as the loop iterates\n",
    "        \n",
    "        # Finding the greatest decrease in net change\n",
    "        if net_change < greatest_decrease[1]:\n",
    "            greatest_decrease[0] = row[0]\n",
    "            greatest_decrease[1] = net_change\n",
    "\n",
    "# Calculate average of changes in Profit/Losses over entire period\n",
    "\n",
    "average_change = round(sum(net_change_list)/len(net_change_list), 2)\n",
    "print(average_change)\n",
    "\n",
    "# Final print to terminal and export text file with results\n",
    "\n",
    "with open(outputpath, 'w') as txt_file:\n",
    "    txt_file.write(f\"Financial Analysis\\n\")\n",
    "    txt_file.write(f\"----------------------------\\n\")\n",
    "    txt_file.write(f\"Total Months: {total_months}\\n\")\n",
    "    txt_file.write(f\"Total: ${total_net}\\n\")\n",
    "    txt_file.write(f\"Average Change: ${average_change}\\n\")\n",
    "    txt_file.write(f\"Greatest Increase in Profits: {greatest_increase}\\n\")\n",
    "    txt_file.write(f\"Greatest Decrease in Profits: {greatest_decrease}\\n\")"
   ]
  },
  {
   "cell_type": "code",
   "execution_count": null,
   "metadata": {},
   "outputs": [],
   "source": []
  }
 ],
 "metadata": {
  "kernelspec": {
   "display_name": "Python 3",
   "language": "python",
   "name": "python3"
  },
  "language_info": {
   "codemirror_mode": {
    "name": "ipython",
    "version": 3
   },
   "file_extension": ".py",
   "mimetype": "text/x-python",
   "name": "python",
   "nbconvert_exporter": "python",
   "pygments_lexer": "ipython3",
   "version": "3.7.9"
  }
 },
 "nbformat": 4,
 "nbformat_minor": 4
}
